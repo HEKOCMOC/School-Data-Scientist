{
 "cells": [
  {
   "cell_type": "markdown",
   "id": "0cf2846d",
   "metadata": {},
   "source": [
    "## Привет, это первая домашнаяя работа"
   ]
  },
  {
   "cell_type": "code",
   "execution_count": 3,
   "id": "011da23d",
   "metadata": {},
   "outputs": [
    {
     "name": "stdout",
     "output_type": "stream",
     "text": [
      "Первая домашняя работа выполнена!\n"
     ]
    }
   ],
   "source": [
    "print(\"Первая домашняя работа выполнена!\")"
   ]
  },
  {
   "cell_type": "code",
   "execution_count": null,
   "id": "2f6d8d73",
   "metadata": {},
   "outputs": [],
   "source": []
  }
 ],
 "metadata": {
  "kernelspec": {
   "display_name": "Python 3 (ipykernel)",
   "language": "python",
   "name": "python3"
  },
  "language_info": {
   "codemirror_mode": {
    "name": "ipython",
    "version": 3
   },
   "file_extension": ".py",
   "mimetype": "text/x-python",
   "name": "python",
   "nbconvert_exporter": "python",
   "pygments_lexer": "ipython3",
   "version": "3.9.13"
  }
 },
 "nbformat": 4,
 "nbformat_minor": 5
}
