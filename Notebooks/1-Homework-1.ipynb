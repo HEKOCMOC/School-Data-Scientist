{
 "cells": [
  {
   "cell_type": "markdown",
   "id": "a9faab2e",
   "metadata": {},
   "source": [
    "### Задание №1\n",
    "Обязательное задание:\n",
    "* Собрать информацию о всех строящихся объектах на сайте \"наш.дом.рф\"\n",
    "* Cохранить ее в pandas dataframe\n",
    "* Cохранить pandas dataframe в excel\n",
    "* Cохранить pandas dataframe в pickle\n",
    "* Cохранить pandas dataframe в БД\n",
    "\n",
    "Дополнительное задание:\n",
    "* Написать скрипт, который скачивает фотографии всех строящихся объектов с сайта \"наш.дом.рф\""
   ]
  },
  {
   "cell_type": "markdown",
   "id": "d1f46005",
   "metadata": {},
   "source": [
    "Импорт используемых библиотек:"
   ]
  },
  {
   "cell_type": "code",
   "execution_count": 1,
   "id": "d4998855",
   "metadata": {},
   "outputs": [],
   "source": [
    "import requests\n",
    "import pandas as pd"
   ]
  },
  {
   "cell_type": "code",
   "execution_count": 28,
   "id": "33e1d675",
   "metadata": {},
   "outputs": [],
   "source": [
    "import time"
   ]
  },
  {
   "cell_type": "markdown",
   "id": "2e1a8be7",
   "metadata": {},
   "source": [
    "Протестируем запрос для небольшого количества застройщиков:"
   ]
  },
  {
   "cell_type": "code",
   "execution_count": 2,
   "id": "c7521a31",
   "metadata": {},
   "outputs": [],
   "source": [
    "url = f'https://наш.дом.рф/сервисы/api/kn/object?offset=0&limit=100&sortField=devId.devShortCleanNm&sortType=asc&objStatus=0'\n",
    "res = requests.get(url)"
   ]
  },
  {
   "cell_type": "code",
   "execution_count": 3,
   "id": "1339fd09",
   "metadata": {},
   "outputs": [
    {
     "data": {
      "text/plain": [
       "{'objId': 29678,\n",
       " 'developer': {'devId': 7424,\n",
       "  'shortName': '212-2',\n",
       "  'fullName': '212-2',\n",
       "  'orgForm': {'id': 20,\n",
       "   'fullForm': 'Жилищный или жилищно-строительный кооператив',\n",
       "   'shortForm': 'ЖСК'},\n",
       "  'devInn': '6154572922'},\n",
       " 'rpdRegionCd': 61,\n",
       " 'objAddr': 'город Таганрог, улица Сергея Шило, д. 212-2',\n",
       " 'objElemLivingCnt': 27,\n",
       " 'objReady100PercDt': '2020-03-31',\n",
       " 'objSquareLiving': 1519.0,\n",
       " 'objCompensFundFlg': 0,\n",
       " 'objProblemFlg': 0,\n",
       " 'latitude': 47.2197,\n",
       " 'longitude': 38.9134,\n",
       " 'problemFlag': 'NONE',\n",
       " 'siteStatus': 'Строящиеся',\n",
       " 'objGuarantyEscrowFlg': 0,\n",
       " 'residentialBuildings': 1,\n",
       " 'rpdNum': '61-000819',\n",
       " 'pdId': 124648,\n",
       " 'buildType': 'Жилое',\n",
       " 'objStatus': 0}"
      ]
     },
     "execution_count": 3,
     "metadata": {},
     "output_type": "execute_result"
    }
   ],
   "source": [
    "objects_data = res.json()\n",
    "objects_data.get('data').get('list')[0]"
   ]
  },
  {
   "cell_type": "markdown",
   "id": "2b216351",
   "metadata": {},
   "source": [
    "Cбор информации по всем объектам:"
   ]
  },
  {
   "cell_type": "code",
   "execution_count": null,
   "id": "74163523",
   "metadata": {
    "scrolled": true
   },
   "outputs": [],
   "source": [
    "offset = 0\n",
    "limit = 100\n",
    "data_all = []\n",
    "\n",
    "while True:\n",
    "    url = f'https://наш.дом.рф/сервисы/api/kn/object?offset={offset}&limit={limit}&sortField=devId.devShortCleanNm&sortType=asc&objStatus=0'\n",
    "    res = requests.get(url)\n",
    "\n",
    "    objects_data = res.json()\n",
    "\n",
    "    obj_data = objects_data['data']['list']\n",
    "\n",
    "    for obj in obj_data:\n",
    "        objId = obj.get('objId')\n",
    "        devId = obj.get('developer').get('devId')\n",
    "        shortName = obj.get('developer').get('shortName')\n",
    "        fullName = obj.get('developer').get('fullName')\n",
    "        id_org = obj.get('developer').get('orgForm').get('id')\n",
    "        fullForm_org = obj.get('developer').get('orgForm').get('fullForm')\n",
    "        shortForm_org = obj.get('developer').get('orgForm').get('shortForm')\n",
    "        devInn = obj.get('developer').get('devInn')\n",
    "        rpdRegionCd = obj.get('rpdRegionCd')\n",
    "        objAddr = obj.get('objAddr')\n",
    "        objElemLivingCnt = obj.get('objElemLivingCnt')\n",
    "        objReady100PercDt = obj.get('objReady100PercDt')\n",
    "        objSquareLiving = obj.get('objSquareLiving')\n",
    "        objCompensFundFlg = obj.get('objCompensFundFlg')\n",
    "        objProblemFlg = obj.get('objProblemFlg')\n",
    "        latitude = obj.get('latitude')\n",
    "        longitude = obj.get('longitude')\n",
    "        problemFlag = obj.get('problemFlag')\n",
    "        siteStatus = obj.get('siteStatus')\n",
    "        objGuarantyEscrowFlg = obj.get('objGuarantyEscrowFlg')\n",
    "        residentialBuildings = obj.get('residentialBuildings')\n",
    "        rpdNum = obj.get('rpdNum')\n",
    "        pdId = obj.get('pdId')\n",
    "        buildType = obj.get('buildType')\n",
    "        objStatus = obj.get('objStatus')\n",
    "\n",
    "        data = {\n",
    "            'ID_объекта':objId,\n",
    "            'ID_застройщика':devId,\n",
    "            'Застройщик_кратко':shortName,\n",
    "            'Застройщик':fullName,\n",
    "            'ID_организации':id_org,\n",
    "            'Организация':fullForm_org,\n",
    "            'Организация_кратко':shortForm_org,\n",
    "            'ИНН_застройщика':devInn,\n",
    "            'Код_региона':rpdRegionCd,\n",
    "            'Адрес_объекта':objAddr,\n",
    "            'Количество_кв':objElemLivingCnt,\n",
    "            'Сдача_кв':objReady100PercDt,\n",
    "            'Площадь':objSquareLiving,\n",
    "            'Флаг_компенсации':objCompensFundFlg,\n",
    "            'Флаг_проблемы_объекта':objProblemFlg,\n",
    "            'Широта':latitude,\n",
    "            'Долгота':longitude,\n",
    "            'Флаг_проблемы':problemFlag,\n",
    "            'Статус':siteStatus,\n",
    "            'Гарантия':objGuarantyEscrowFlg,\n",
    "            'Жилые_дома':residentialBuildings,\n",
    "            'Номер_ПД':rpdNum,\n",
    "            'ID_ПД':pdId,\n",
    "            'Тип_здания':buildType,\n",
    "            'Статус_объекта':objStatus\n",
    "        }\n",
    "\n",
    "        data_all.append(data)\n",
    "        data = {}\n",
    "        \n",
    "    if not obj_data:\n",
    "        break\n",
    "        \n",
    "    offset += 100\n",
    "    time.sleep(1.5)"
   ]
  },
  {
   "cell_type": "markdown",
   "id": "d14327a1",
   "metadata": {},
   "source": [
    "Сохраняем результат в Pandas DataFrame:"
   ]
  },
  {
   "cell_type": "code",
   "execution_count": 51,
   "id": "5a6d49c4",
   "metadata": {},
   "outputs": [],
   "source": [
    "df = pd.DataFrame(data_all)"
   ]
  },
  {
   "cell_type": "code",
   "execution_count": 54,
   "id": "d2e4c9b0",
   "metadata": {},
   "outputs": [
    {
     "data": {
      "text/html": [
       "<div>\n",
       "<style scoped>\n",
       "    .dataframe tbody tr th:only-of-type {\n",
       "        vertical-align: middle;\n",
       "    }\n",
       "\n",
       "    .dataframe tbody tr th {\n",
       "        vertical-align: top;\n",
       "    }\n",
       "\n",
       "    .dataframe thead th {\n",
       "        text-align: right;\n",
       "    }\n",
       "</style>\n",
       "<table border=\"1\" class=\"dataframe\">\n",
       "  <thead>\n",
       "    <tr style=\"text-align: right;\">\n",
       "      <th></th>\n",
       "      <th>ID_объекта</th>\n",
       "      <th>ID_застройщика</th>\n",
       "      <th>Застройщик_кратко</th>\n",
       "      <th>Застройщик</th>\n",
       "      <th>ID_организации</th>\n",
       "      <th>Организация</th>\n",
       "      <th>Организация_кратко</th>\n",
       "      <th>ИНН_застройщика</th>\n",
       "      <th>Код_региона</th>\n",
       "      <th>Адрес_объекта</th>\n",
       "      <th>...</th>\n",
       "      <th>Широта</th>\n",
       "      <th>Долгота</th>\n",
       "      <th>Флаг_проблемы</th>\n",
       "      <th>Статус</th>\n",
       "      <th>Гарантия</th>\n",
       "      <th>Жилые_дома</th>\n",
       "      <th>Номер_ПД</th>\n",
       "      <th>ID_ПД</th>\n",
       "      <th>Тип_здания</th>\n",
       "      <th>Статус_объекта</th>\n",
       "    </tr>\n",
       "  </thead>\n",
       "  <tbody>\n",
       "    <tr>\n",
       "      <th>0</th>\n",
       "      <td>29678</td>\n",
       "      <td>7424</td>\n",
       "      <td>212-2</td>\n",
       "      <td>212-2</td>\n",
       "      <td>20</td>\n",
       "      <td>Жилищный или жилищно-строительный кооператив</td>\n",
       "      <td>ЖСК</td>\n",
       "      <td>6154572922</td>\n",
       "      <td>61</td>\n",
       "      <td>город Таганрог, улица Сергея Шило, д. 212-2</td>\n",
       "      <td>...</td>\n",
       "      <td>47.2197</td>\n",
       "      <td>38.9134</td>\n",
       "      <td>NONE</td>\n",
       "      <td>Строящиеся</td>\n",
       "      <td>0</td>\n",
       "      <td>1</td>\n",
       "      <td>61-000819</td>\n",
       "      <td>124648</td>\n",
       "      <td>Жилое</td>\n",
       "      <td>0</td>\n",
       "    </tr>\n",
       "    <tr>\n",
       "      <th>1</th>\n",
       "      <td>29679</td>\n",
       "      <td>7424</td>\n",
       "      <td>212-2</td>\n",
       "      <td>212-2</td>\n",
       "      <td>20</td>\n",
       "      <td>Жилищный или жилищно-строительный кооператив</td>\n",
       "      <td>ЖСК</td>\n",
       "      <td>6154572922</td>\n",
       "      <td>61</td>\n",
       "      <td>г Таганрог</td>\n",
       "      <td>...</td>\n",
       "      <td>47.2238</td>\n",
       "      <td>38.8513</td>\n",
       "      <td>NONE</td>\n",
       "      <td>Строящиеся</td>\n",
       "      <td>0</td>\n",
       "      <td>1</td>\n",
       "      <td>61-000818</td>\n",
       "      <td>124647</td>\n",
       "      <td>Жилое</td>\n",
       "      <td>0</td>\n",
       "    </tr>\n",
       "    <tr>\n",
       "      <th>2</th>\n",
       "      <td>13383</td>\n",
       "      <td>306</td>\n",
       "      <td>2МЕН ГРУПП</td>\n",
       "      <td>2МЕН ГРУПП</td>\n",
       "      <td>1</td>\n",
       "      <td>Акционерное общество</td>\n",
       "      <td>АО</td>\n",
       "      <td>7701651356</td>\n",
       "      <td>72</td>\n",
       "      <td>г Тюмень</td>\n",
       "      <td>...</td>\n",
       "      <td>57.1519</td>\n",
       "      <td>65.5536</td>\n",
       "      <td>NONE</td>\n",
       "      <td>Строящиеся</td>\n",
       "      <td>0</td>\n",
       "      <td>1</td>\n",
       "      <td>72-000095</td>\n",
       "      <td>28105</td>\n",
       "      <td>Жилое</td>\n",
       "      <td>0</td>\n",
       "    </tr>\n",
       "  </tbody>\n",
       "</table>\n",
       "<p>3 rows × 25 columns</p>\n",
       "</div>"
      ],
      "text/plain": [
       "   ID_объекта  ID_застройщика Застройщик_кратко  Застройщик  ID_организации  \\\n",
       "0       29678            7424             212-2       212-2              20   \n",
       "1       29679            7424             212-2       212-2              20   \n",
       "2       13383             306        2МЕН ГРУПП  2МЕН ГРУПП               1   \n",
       "\n",
       "                                    Организация Организация_кратко  \\\n",
       "0  Жилищный или жилищно-строительный кооператив                ЖСК   \n",
       "1  Жилищный или жилищно-строительный кооператив                ЖСК   \n",
       "2                          Акционерное общество                 АО   \n",
       "\n",
       "  ИНН_застройщика  Код_региона                                Адрес_объекта  \\\n",
       "0      6154572922           61  город Таганрог, улица Сергея Шило, д. 212-2   \n",
       "1      6154572922           61                                   г Таганрог   \n",
       "2      7701651356           72                                     г Тюмень   \n",
       "\n",
       "   ...   Широта  Долгота  Флаг_проблемы      Статус  Гарантия  Жилые_дома  \\\n",
       "0  ...  47.2197  38.9134           NONE  Строящиеся         0           1   \n",
       "1  ...  47.2238  38.8513           NONE  Строящиеся         0           1   \n",
       "2  ...  57.1519  65.5536           NONE  Строящиеся         0           1   \n",
       "\n",
       "    Номер_ПД   ID_ПД Тип_здания  Статус_объекта  \n",
       "0  61-000819  124648      Жилое               0  \n",
       "1  61-000818  124647      Жилое               0  \n",
       "2  72-000095   28105      Жилое               0  \n",
       "\n",
       "[3 rows x 25 columns]"
      ]
     },
     "execution_count": 54,
     "metadata": {},
     "output_type": "execute_result"
    }
   ],
   "source": [
    "df.head(3)"
   ]
  },
  {
   "cell_type": "markdown",
   "id": "550494fd",
   "metadata": {},
   "source": [
    "Убеждаемся, что количество строк равно количеству объектов на сайте (10527):"
   ]
  },
  {
   "cell_type": "code",
   "execution_count": 55,
   "id": "e25ebde6",
   "metadata": {},
   "outputs": [
    {
     "name": "stdout",
     "output_type": "stream",
     "text": [
      "<class 'pandas.core.frame.DataFrame'>\n",
      "RangeIndex: 10527 entries, 0 to 10526\n",
      "Data columns (total 25 columns):\n",
      " #   Column                 Non-Null Count  Dtype  \n",
      "---  ------                 --------------  -----  \n",
      " 0   ID_объекта             10527 non-null  int64  \n",
      " 1   ID_застройщика         10527 non-null  int64  \n",
      " 2   Застройщик_кратко      10527 non-null  object \n",
      " 3   Застройщик             10527 non-null  object \n",
      " 4   ID_организации         10527 non-null  int64  \n",
      " 5   Организация            10527 non-null  object \n",
      " 6   Организация_кратко     10527 non-null  object \n",
      " 7   ИНН_застройщика        10527 non-null  object \n",
      " 8   Код_региона            10527 non-null  int64  \n",
      " 9   Адрес_объекта          10501 non-null  object \n",
      " 10  Количество_кв          10527 non-null  int64  \n",
      " 11  Сдача_кв               10527 non-null  object \n",
      " 12  Площадь                10527 non-null  float64\n",
      " 13  Флаг_компенсации       10527 non-null  int64  \n",
      " 14  Флаг_проблемы_объекта  10527 non-null  int64  \n",
      " 15  Широта                 10522 non-null  float64\n",
      " 16  Долгота                10522 non-null  float64\n",
      " 17  Флаг_проблемы          10527 non-null  object \n",
      " 18  Статус                 10527 non-null  object \n",
      " 19  Гарантия               10527 non-null  int64  \n",
      " 20  Жилые_дома             10527 non-null  int64  \n",
      " 21  Номер_ПД               10527 non-null  object \n",
      " 22  ID_ПД                  10527 non-null  int64  \n",
      " 23  Тип_здания             10527 non-null  object \n",
      " 24  Статус_объекта         10527 non-null  int64  \n",
      "dtypes: float64(3), int64(11), object(11)\n",
      "memory usage: 2.0+ MB\n"
     ]
    }
   ],
   "source": [
    "df.info()"
   ]
  },
  {
   "cell_type": "markdown",
   "id": "f0b9c21f",
   "metadata": {},
   "source": [
    "Сохраняем в формате Excel:"
   ]
  },
  {
   "cell_type": "code",
   "execution_count": 56,
   "id": "330e7f78",
   "metadata": {},
   "outputs": [],
   "source": [
    "df.to_excel('../Datasets/domrf.xlsx', encoding='cp1252')"
   ]
  },
  {
   "cell_type": "markdown",
   "id": "b9cd324d",
   "metadata": {},
   "source": [
    "Сохраняем в формате pickle:"
   ]
  },
  {
   "cell_type": "code",
   "execution_count": 57,
   "id": "b2bcbd0c",
   "metadata": {},
   "outputs": [],
   "source": [
    "df.to_pickle('../Datasets/domrf.pickle')"
   ]
  },
  {
   "cell_type": "markdown",
   "id": "fce66206",
   "metadata": {},
   "source": [
    "Cохраняем pandas dataframe в БД:"
   ]
  },
  {
   "cell_type": "code",
   "execution_count": 70,
   "id": "6234bb9c",
   "metadata": {},
   "outputs": [],
   "source": [
    "import sqlite3"
   ]
  },
  {
   "cell_type": "code",
   "execution_count": 71,
   "id": "c6026c72",
   "metadata": {},
   "outputs": [],
   "source": [
    "con = sqlite3.connect(\"/Users/egorgersevskij/Library/DBeaverData/workspace6/.metadata/sample-database-sqlite-1/Chinook.db\")"
   ]
  },
  {
   "cell_type": "code",
   "execution_count": 72,
   "id": "c6250324",
   "metadata": {},
   "outputs": [
    {
     "data": {
      "text/plain": [
       "10527"
      ]
     },
     "execution_count": 72,
     "metadata": {},
     "output_type": "execute_result"
    }
   ],
   "source": [
    "df.to_sql('domrf', schema=\"dbeaver-sample-database-sqlite-1\", con=con, if_exists=\"append\")"
   ]
  },
  {
   "cell_type": "code",
   "execution_count": null,
   "id": "314d7118",
   "metadata": {},
   "outputs": [],
   "source": []
  }
 ],
 "metadata": {
  "kernelspec": {
   "display_name": "Python 3 (ipykernel)",
   "language": "python",
   "name": "python3"
  },
  "language_info": {
   "codemirror_mode": {
    "name": "ipython",
    "version": 3
   },
   "file_extension": ".py",
   "mimetype": "text/x-python",
   "name": "python",
   "nbconvert_exporter": "python",
   "pygments_lexer": "ipython3",
   "version": "3.9.13"
  }
 },
 "nbformat": 4,
 "nbformat_minor": 5
}
